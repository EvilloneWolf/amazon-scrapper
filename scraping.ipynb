{
 "cells": [
  {
   "cell_type": "code",
   "execution_count": 16,
   "id": "c34cbb39",
   "metadata": {},
   "outputs": [
    {
     "name": "stdout",
     "output_type": "stream",
     "text": [
      "Data saved to amazon_products.csv\n"
     ]
    }
   ],
   "source": [
    "import requests\n",
    "import csv\n",
    "from bs4 import BeautifulSoup\n",
    "\n",
    "base_url = 'https://www.amazon.in'\n",
    "search_url = 'https://www.amazon.in/s?k=bags&crid=2M096C61O4MLT&qid=1653308124&sprefix=ba%2Caps%2C283&ref=sr_pg_{}'\n",
    "\n",
    "num_pages = 20  # Number of pages to scrape\n",
    "products = []\n",
    "\n",
    "for page in range(1, num_pages + 1):\n",
    "    url = search_url.format(page)\n",
    "    response = requests.get(url)\n",
    "    soup = BeautifulSoup(response.content, 'html.parser')\n",
    "\n",
    "    search_results = soup.find_all('div', {'data-component-type': 's-search-result'})\n",
    "\n",
    "    for result in search_results:\n",
    "        product_url = base_url + result.find('a', {'class': 'a-link-normal s-no-outline'}).get('href')\n",
    "        product_name = result.find('span', {'class': 'a-size-medium a-color-base a-text-normal'}).text.strip()\n",
    "\n",
    "        price_element = result.find('span', {'class': 'a-offscreen'})\n",
    "        product_price = price_element.text if price_element else 'N/A'\n",
    "\n",
    "        rating_element = result.find('span', {'class': 'a-icon-alt'})\n",
    "        rating = rating_element.text.split()[0] if rating_element else 'N/A'\n",
    "\n",
    "        reviews_element = result.find('span', {'class': 'a-size-base'})\n",
    "        num_reviews = reviews_element.text.replace(',', '') if reviews_element else 'N/A'\n",
    "\n",
    "        product_info = {\n",
    "            'Product URL': product_url,\n",
    "            'Product Name': product_name,\n",
    "            'Product Price': product_price,\n",
    "            'Rating': rating,\n",
    "            'Number of Reviews': num_reviews\n",
    "        }\n",
    "\n",
    "        products.append(product_info)\n",
    "\n",
    "# Scrape additional information for each product\n",
    "for product in products:\n",
    "    url = product['Product URL']\n",
    "    response = requests.get(url)\n",
    "    soup = BeautifulSoup(response.content, 'html.parser')\n",
    "\n",
    "    description_element = soup.find('div', {'id': 'productDescription'})\n",
    "    description = description_element.text.strip() if description_element else 'N/A'\n",
    "\n",
    "    asin_element = soup.find('th', text='ASIN')\n",
    "    asin = asin_element.find_next_sibling('td').text.strip() if asin_element else 'N/A'\n",
    "\n",
    "    product_description_element = soup.find('div', {'id': 'productDescription_feature_div'})\n",
    "    product_description = product_description_element.text.strip() if product_description_element else 'N/A'\n",
    "\n",
    "    manufacturer_element = soup.find('th', text='Manufacturer')\n",
    "    manufacturer = manufacturer_element.find_next_sibling('td').text.strip() if manufacturer_element else 'N/A'\n",
    "\n",
    "    product['Description'] = description\n",
    "    product['ASIN'] = asin\n",
    "    product['Product Description'] = product_description\n",
    "    product['Manufacturer'] = manufacturer\n",
    "\n",
    "# Save the scraped product information to a CSV file\n",
    "filename = 'amazon_products.csv'\n",
    "fieldnames = ['Product URL', 'Product Name', 'Product Price', 'Rating', 'Number of Reviews', 'Description', 'ASIN',\n",
    "              'Product Description', 'Manufacturer']\n",
    "\n",
    "with open(filename, 'w', newline='', encoding='utf-8') as file:\n",
    "    writer = csv.DictWriter(file, fieldnames=fieldnames)\n",
    "    writer.writeheader()\n",
    "    writer.writerows(products)\n",
    "\n",
    "print('Data saved to', filename)\n"
   ]
  },
  {
   "cell_type": "code",
   "execution_count": null,
   "id": "d018033e",
   "metadata": {},
   "outputs": [],
   "source": []
  }
 ],
 "metadata": {
  "kernelspec": {
   "display_name": "Python 3 (ipykernel)",
   "language": "python",
   "name": "python3"
  },
  "language_info": {
   "codemirror_mode": {
    "name": "ipython",
    "version": 3
   },
   "file_extension": ".py",
   "mimetype": "text/x-python",
   "name": "python",
   "nbconvert_exporter": "python",
   "pygments_lexer": "ipython3",
   "version": "3.10.9"
  }
 },
 "nbformat": 4,
 "nbformat_minor": 5
}
